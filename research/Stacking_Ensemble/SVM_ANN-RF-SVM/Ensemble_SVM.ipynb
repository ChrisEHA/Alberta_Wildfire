{
 "cells": [
  {
   "cell_type": "code",
   "execution_count": 1,
   "metadata": {},
   "outputs": [],
   "source": [
    "import pandas as pd\n",
    "from sklearn import set_config\n",
    "set_config(transform_output = \"pandas\")\n",
    "\n",
    "# Import model specific code. Explicitly import custom preprocessing functions (i.e., extract_day_of_year)\n",
    "from Ensemble_Functions import En_test_train_validation_split, load_constituent_models, load_constituent_pipelines, ModelPredictor\n",
    "from ANN.ANN_functions import ANN_predict_proba\n",
    "from RF.RF_functions import RF_predict_proba\n",
    "from SVM.SVM_functions import SVM_predict"
   ]
  },
  {
   "cell_type": "code",
   "execution_count": 2,
   "metadata": {},
   "outputs": [
    {
     "name": "stderr",
     "output_type": "stream",
     "text": [
      "WARNING:absl:Compiled the loaded model, but the compiled metrics have yet to be built. `model.compile_metrics` will be empty until you train or evaluate the model.\n"
     ]
    }
   ],
   "source": [
    "## Load models ##\n",
    "def extract_day_of_year(X): # Define a commonly used function in preprocessing\n",
    "    day_of_year = X['date'].dt.dayofyear.to_frame(name='day_of_the_year')\n",
    "    return day_of_year\n",
    "\n",
    "models = load_constituent_models(\"ANN/ANN.h5\",\"RF/RF.joblib\",\"SVM/SVM.joblib\")\n",
    "ANN_model = models[\"ANN/ANN.h5\"]\n",
    "RF_model = models[\"RF/RF.joblib\"]\n",
    "SVM_model = models[\"SVM/SVM.joblib\"]\n",
    "\n",
    "\n",
    "pipelines = load_constituent_pipelines(\"ANN/ANN_pipeline.joblib\",\"RF/RF_pipeline.joblib\",\"SVM/SVM_pipeline.joblib\")\n",
    "ANN_pipeline = pipelines[\"ANN/ANN_pipeline.joblib\"]\n",
    "RF_pipeline = pipelines[\"RF/RF_pipeline.joblib\"]\n",
    "SVM_pipeline = pipelines[\"SVM/SVM_pipeline.joblib\"]\n",
    "\n",
    "# Freeze the ANN model\n",
    "for layer in ANN_model.layers:\n",
    "    layer.trainable = False"
   ]
  },
  {
   "cell_type": "code",
   "execution_count": 3,
   "metadata": {},
   "outputs": [],
   "source": [
    "# Functions to simplify testing different models\n",
    "\n",
    "def load_downsampled_df():\n",
    "    main_df = pd.read_csv(\"downsampled_df.csv\",index_col=0)\n",
    "    main_df['date'] = pd.to_datetime(main_df['date'])\n",
    "    return main_df\n",
    "\n",
    "def load_full_df():\n",
    "    main_df = pd.read_csv(\"processed_wildfire_ERA5_FWI.csv\",index_col=0)\n",
    "    main_df['date'] = pd.to_datetime(main_df['date'])\n",
    "    main_df.rename(columns={'latitude_ERA5': 'latitude', 'longitude_ERA5': 'longitude'},inplace=True)\n",
    "    unnamed_cols = [col for col in main_df.columns if col.startswith('Unnamed:')]\n",
    "    main_df.drop(columns=unnamed_cols, inplace=True)\n",
    "    main_df['type_of_high_vegetation'] = main_df['type_of_high_vegetation'].astype(int)\n",
    "    main_df['type_of_low_vegetation'] = main_df['type_of_low_vegetation'].astype(int)\n",
    "    return main_df"
   ]
  },
  {
   "cell_type": "code",
   "execution_count": 4,
   "metadata": {},
   "outputs": [],
   "source": [
    "## Load and split data ##\n",
    "\n",
    "# Load wildfire dataframe and perform simple preprocessing\n",
    "#main_df = load_downsampled_df()\n",
    "main_df = load_full_df()\n",
    "\n",
    "# Create the validation dataframe out of data after 2019\n",
    "validation_df = main_df[main_df['date'] > pd.Timestamp('2019-01-01')]\n",
    "test_train_df = main_df[main_df['date'] < pd.Timestamp('2019-01-01')]\n",
    "\n",
    "# Get the splits\n",
    "X_train, X_test, X_validation, y_train, y_test, y_validation = En_test_train_validation_split(validation_df, test_train_df)\n",
    "X_train.reset_index(drop=True,inplace=True)\n",
    "X_test.reset_index(drop=True,inplace=True)\n",
    "X_validation.reset_index(drop=True,inplace=True)"
   ]
  },
  {
   "cell_type": "code",
   "execution_count": 5,
   "metadata": {},
   "outputs": [],
   "source": [
    "## Create model predictors ##\n",
    "\n",
    "ann_predictor = ModelPredictor(ANN_model, ANN_pipeline, ANN_predict_proba, 'ANN')\n",
    "rf_predictor = ModelPredictor(RF_model, RF_pipeline, RF_predict_proba, 'RF')\n",
    "svm_predictor = ModelPredictor(SVM_model,SVM_pipeline,SVM_predict, 'SVM')"
   ]
  },
  {
   "cell_type": "code",
   "execution_count": 6,
   "metadata": {},
   "outputs": [],
   "source": [
    "## Create the predictions features ##\n",
    "from sklearn.pipeline import Pipeline, FeatureUnion\n",
    "from sklearn.preprocessing import FunctionTransformer\n",
    "from sklearn.svm import SVC\n",
    "\n",
    "ann = FunctionTransformer(ann_predictor.predict, validate=False)\n",
    "rf = FunctionTransformer(rf_predictor.predict, validate=False)\n",
    "svm = FunctionTransformer(svm_predictor.predict, validate=False)\n",
    "\n",
    "Participant_preditcions = FeatureUnion([\n",
    "    ('ann', ann),\n",
    "    ('rf', rf),\n",
    "    ('svm',svm),\n",
    "])\n",
    "\n",
    "# Create prediction feature space\n",
    "create_predictions_pipeline = Pipeline([\n",
    "    ('feature_union', Participant_preditcions),\n",
    "])"
   ]
  },
  {
   "cell_type": "code",
   "execution_count": 7,
   "metadata": {},
   "outputs": [
    {
     "name": "stdout",
     "output_type": "stream",
     "text": [
      "\u001b[1m2124/2124\u001b[0m \u001b[32m━━━━━━━━━━━━━━━━━━━━\u001b[0m\u001b[37m\u001b[0m \u001b[1m1s\u001b[0m 448us/step\n"
     ]
    }
   ],
   "source": [
    "X_train_predictions = create_predictions_pipeline.transform(X_train.reset_index(drop=True))"
   ]
  },
  {
   "cell_type": "code",
   "execution_count": 14,
   "metadata": {},
   "outputs": [
    {
     "name": "stdout",
     "output_type": "stream",
     "text": [
      "Fitting 5 folds for each of 4 candidates, totalling 20 fits\n",
      "Best parameters: {'C': 0.1, 'class_weight': 'balanced', 'gamma': 'scale'}\n",
      "F1 Score: 79.36%\n"
     ]
    }
   ],
   "source": [
    "## Initial Grid Search ##\n",
    "from sklearn.metrics import accuracy_score\n",
    "from sklearn.model_selection import GridSearchCV\n",
    "from sklearn.metrics import f1_score, make_scorer\n",
    "\n",
    "# Classifier\n",
    "stacking_classifier = SVC(kernel='rbf',random_state=61)\n",
    "\n",
    "#F1 scorer\n",
    "f1 = make_scorer(f1_score , average='macro')\n",
    "\n",
    "param_grid = {\n",
    "    'C': [0.1, 1, 10, 100],\n",
    "    'gamma': ['scale'],\n",
    "    'class_weight': ['balanced']\n",
    "}\n",
    "\n",
    "# Perform grid search\n",
    "grid_search = GridSearchCV(stacking_classifier, param_grid, cv=5, scoring=f1,n_jobs=4,verbose=3)\n",
    "grid_search.fit(X_train_predictions,y_train)\n",
    "\n",
    "# Best parameters and best score\n",
    "print(\"Best parameters:\", grid_search.best_params_)\n",
    "print(f\"F1 Score: {100*grid_search.best_score_:.2f}%\")\n",
    "\n",
    "# Get the best pipeline\n",
    "best_ensemble_pipeline = grid_search.best_estimator_\n",
    "\n",
    "#GS1\n",
    "#Fitting 5 folds for each of 4 candidates, totalling 20 fits\n",
    "#Best parameters: {'C': 0.1, 'class_weight': 'balanced', 'gamma': 'scale'}\n",
    "#F1 Score: 79.36%"
   ]
  },
  {
   "cell_type": "code",
   "execution_count": 17,
   "metadata": {},
   "outputs": [
    {
     "name": "stdout",
     "output_type": "stream",
     "text": [
      "\u001b[1m5637/5637\u001b[0m \u001b[32m━━━━━━━━━━━━━━━━━━━━\u001b[0m\u001b[37m\u001b[0m \u001b[1m3s\u001b[0m 446us/step\n"
     ]
    }
   ],
   "source": [
    "from Visualization_functions import generate_visualizations\n",
    "\n",
    "X_val_processed = create_predictions_pipeline.transform(X_validation)\n",
    "y_validation_pred = best_ensemble_pipeline.predict(X_val_processed)\n",
    "generate_visualizations(X_validation,y_validation_pred,y_validation,main_df,'SVM_Visuals_GS1')"
   ]
  },
  {
   "cell_type": "code",
   "execution_count": 18,
   "metadata": {},
   "outputs": [
    {
     "name": "stdout",
     "output_type": "stream",
     "text": [
      "Validation set accuracy: 0.9343741510553248\n",
      "f1 score:  0.057488653555219364\n"
     ]
    }
   ],
   "source": [
    "from sklearn.metrics import accuracy_score, f1_score\n",
    "\n",
    "# Predict on the validation set\n",
    "\n",
    "# Evaluate the accuracy of the model on the validation set\n",
    "accuracy = accuracy_score(y_validation, y_validation_pred)\n",
    "print(\"Validation set accuracy:\", accuracy)\n",
    "print('f1 score: ',f1_score(y_validation, y_validation_pred))"
   ]
  },
  {
   "cell_type": "code",
   "execution_count": 15,
   "metadata": {},
   "outputs": [
    {
     "data": {
      "text/plain": [
       "['SVM_stacking_GS1.joblib']"
      ]
     },
     "execution_count": 15,
     "metadata": {},
     "output_type": "execute_result"
    }
   ],
   "source": [
    "from joblib  import dump\n",
    "\n",
    "dump(best_ensemble_pipeline,'SVM_stacking_GS1.joblib')"
   ]
  },
  {
   "cell_type": "markdown",
   "metadata": {},
   "source": [
    "**Voting on validation set**"
   ]
  },
  {
   "cell_type": "code",
   "execution_count": 21,
   "metadata": {},
   "outputs": [],
   "source": [
    "X_voting = X_val_processed.copy().astype(int)\n",
    "X_voting['Most_Occurring'] = X_voting.mode(axis=1)[0]"
   ]
  },
  {
   "cell_type": "code",
   "execution_count": 23,
   "metadata": {},
   "outputs": [
    {
     "name": "stdout",
     "output_type": "stream",
     "text": [
      "Validation set accuracy: 0.9958308153749771\n",
      "f1 score:  0.0\n"
     ]
    }
   ],
   "source": [
    "y_voting_pred = X_voting['Most_Occurring']\n",
    "accuracy = accuracy_score(y_validation, y_voting_pred)\n",
    "print(\"Validation set accuracy:\", accuracy)\n",
    "print('f1 score: ',f1_score(y_validation, y_voting_pred))"
   ]
  },
  {
   "cell_type": "markdown",
   "metadata": {},
   "source": [
    "**Imported Code**"
   ]
  },
  {
   "cell_type": "code",
   "execution_count": 26,
   "metadata": {},
   "outputs": [],
   "source": [
    "## Final Model from pipeline import ##\n",
    "import joblib\n",
    "\n",
    "partial_pipeline = joblib.load('ensemble_partial_pipeline.joblib')\n",
    "sub_pipeline_steps = partial_pipeline.steps\n",
    "ensemble_pipeline = Pipeline([('participant_predictions', Participant_preditcions)] + sub_pipeline_steps)"
   ]
  },
  {
   "cell_type": "code",
   "execution_count": null,
   "metadata": {},
   "outputs": [],
   "source": [
    "## Save the parts of the pipeline after participant model predictions ##\n",
    "import joblib\n",
    "\n",
    "# Step 1: Create a sub-pipeline starting from the 'day_of_year' step\n",
    "sub_pipeline = Pipeline([\n",
    "    ('day_of_year', ensemble_pipeline.named_steps['day_of_year']),\n",
    "    ('feature_union', ensemble_pipeline.named_steps['feature_union']),\n",
    "    ('classifier', ensemble_pipeline.named_steps['classifier'])\n",
    "])\n",
    "\n",
    "# Step 2: Save the sub-pipeline using joblib\n",
    "joblib.dump(sub_pipeline, 'ensemble_partial_pipeline.joblib')"
   ]
  },
  {
   "cell_type": "markdown",
   "metadata": {},
   "source": [
    "**Visualizations**"
   ]
  },
  {
   "cell_type": "code",
   "execution_count": 9,
   "metadata": {},
   "outputs": [
    {
     "name": "stdout",
     "output_type": "stream",
     "text": [
      "\u001b[1m5637/5637\u001b[0m \u001b[32m━━━━━━━━━━━━━━━━━━━━\u001b[0m\u001b[37m\u001b[0m \u001b[1m3s\u001b[0m 499us/step\n"
     ]
    }
   ],
   "source": [
    "## Performance on test and validation data ##\n",
    "#y_test_ensemble_predictions = best_ensemble_pipeline.predict(X_test_predictions)\n",
    "y_val_pred_proba = ensemble_pipeline.predict_proba(X_validation)"
   ]
  },
  {
   "cell_type": "code",
   "execution_count": 31,
   "metadata": {},
   "outputs": [],
   "source": [
    "from Visualization_functions import generate_visualizations\n",
    "\n",
    "y_val_pred = (y_val_pred_proba[:,1] > 0.5).astype(int)\n",
    "generate_visualizations(X_val_predictions,y_val_pred,y_validation,main_df,\"Ensemble_Visuals\")"
   ]
  },
  {
   "cell_type": "code",
   "execution_count": 66,
   "metadata": {},
   "outputs": [
    {
     "name": "stdout",
     "output_type": "stream",
     "text": [
      "\u001b[1m5637/5637\u001b[0m \u001b[32m━━━━━━━━━━━━━━━━━━━━\u001b[0m\u001b[37m\u001b[0m \u001b[1m3s\u001b[0m 522us/step\n",
      "Validation set accuracy: 0.8033220417916406\n",
      "f1 score:  0.029066425814927334\n"
     ]
    }
   ],
   "source": [
    "from sklearn.metrics import accuracy_score, f1_score\n",
    "\n",
    "# Predict on the validation set\n",
    "y_validation_pred = (y_val_pred_proba[:,1] > 0.2).astype(int)\n",
    "\n",
    "# Evaluate the accuracy of the model on the validation set\n",
    "accuracy = accuracy_score(y_validation, y_validation_pred)\n",
    "print(\"Validation set accuracy:\", accuracy)\n",
    "print('f1 score: ',f1_score(y_validation, y_validation_pred))"
   ]
  },
  {
   "cell_type": "code",
   "execution_count": 32,
   "metadata": {},
   "outputs": [],
   "source": [
    "import numpy as np\n",
    "np.save('Ensemble_val_proba.np',y_val_pred_proba)"
   ]
  },
  {
   "cell_type": "code",
   "execution_count": 12,
   "metadata": {},
   "outputs": [
    {
     "data": {
      "image/png": "[encoded data removed]",
      "text/plain": [
       "<Figure size 640x480 with 1 Axes>"
      ]
     },
     "metadata": {},
     "output_type": "display_data"
    }
   ],
   "source": [
    "from Visualization_functions import plot_roc_curve\n",
    "\n",
    "plot_roc_curve(y_validation, y_val_pred_proba[:,1])"
   ]
  },
  {
   "cell_type": "code",
   "execution_count": 61,
   "metadata": {},
   "outputs": [
    {
     "data": {
      "text/plain": [
       "<module 'Visualization_functions' from 'c:\\\\Users\\\\Chis\\\\Documents\\\\Python\\\\ML\\\\AI&ML_Course\\\\Final_Project\\\\Ensemble_model\\\\Visualization_functions.py'>"
      ]
     },
     "execution_count": 61,
     "metadata": {},
     "output_type": "execute_result"
    }
   ],
   "source": [
    "import importlib\n",
    "import Visualization_functions\n",
    "\n",
    "importlib.reload(Visualization_functions)"
   ]
  },
  {
   "cell_type": "code",
   "execution_count": 69,
   "metadata": {},
   "outputs": [
    {
     "name": "stdout",
     "output_type": "stream",
     "text": [
      "\u001b[1m5637/5637\u001b[0m \u001b[32m━━━━━━━━━━━━━━━━━━━━\u001b[0m\u001b[37m\u001b[0m \u001b[1m3s\u001b[0m 535us/step\n"
     ]
    }
   ],
   "source": [
    "from Visualization_functions import generate_visualizations\n",
    "y_validation_pred = (y_val_pred_proba[:,1] > 0.5).astype(int)\n",
    "generate_visualizations(X_validation,y_validation_pred,y_validation,main_df,'Visualization_test')"
   ]
  },
  {
   "cell_type": "markdown",
   "metadata": {},
   "source": [
    "**Hyperparameter Tuning**"
   ]
  },
  {
   "cell_type": "code",
   "execution_count": null,
   "metadata": {},
   "outputs": [],
   "source": [
    "create_predictions_pipeline = Pipeline([\n",
    "    ('feature_union', Participant_preditcions),\n",
    "])\n",
    "\n",
    "X_train_predictions = create_predictions_pipeline.transform(X_train.reset_index(drop=True))\n",
    "X_test_predictions = create_predictions_pipeline.transform(X_test.reset_index(drop=True))\n",
    "X_validation_predictions = create_predictions_pipeline.transform(X_validation.reset_index(drop=True))\n",
    "#X_train_predictions.keys()"
   ]
  },
  {
   "cell_type": "code",
   "execution_count": 37,
   "metadata": {},
   "outputs": [
    {
     "name": "stdout",
     "output_type": "stream",
     "text": [
      "Fitting 5 folds for each of 9 candidates, totalling 45 fits\n",
      "Best parameters: {'classifier__max_depth': 60, 'classifier__n_estimators': 500}\n",
      "F1 Score: 80.32%\n"
     ]
    }
   ],
   "source": [
    "## Initial Grid Search ##\n",
    "from sklearn.metrics import accuracy_score\n",
    "from sklearn.model_selection import GridSearchCV\n",
    "from sklearn.metrics import f1_score, make_scorer\n",
    "\n",
    "#F1 scorer\n",
    "f1 = make_scorer(f1_score , average='macro')\n",
    "\n",
    "param_grid = {\n",
    "    'classifier__n_estimators': [75,200,500],  # Number of trees in the forest\n",
    "    'classifier__max_depth': [8,10,60],\n",
    "    #'classifier__min_samples_leaf': [2,5,40],\n",
    "    #'classifier__min_samples_split': [5,7]\n",
    "}\n",
    "\n",
    "# Perform grid search\n",
    "grid_search = GridSearchCV(ensemble_pipeline, param_grid, cv=5, scoring=f1,n_jobs=-1,verbose=3)\n",
    "grid_search.fit(X_train_predictions,y_train)\n",
    "\n",
    "# Best parameters and best score\n",
    "print(\"Best parameters:\", grid_search.best_params_)\n",
    "print(f\"F1 Score: {100*grid_search.best_score_:.2f}%\")\n",
    "\n",
    "# Get the best pipeline\n",
    "best_ensemble_pipeline = grid_search.best_estimator_"
   ]
  },
  {
   "cell_type": "code",
   "execution_count": 38,
   "metadata": {},
   "outputs": [
    {
     "name": "stdout",
     "output_type": "stream",
     "text": [
      "Fitting 5 folds for each of 27 candidates, totalling 135 fits\n",
      "Best parameters: {'classifier__max_depth': 60, 'classifier__min_samples_leaf': 2, 'classifier__n_estimators': 800}\n",
      "F1 Score: 80.17%\n"
     ]
    }
   ],
   "source": [
    "## Secondary Grid Search ##\n",
    "from sklearn.metrics import accuracy_score\n",
    "from sklearn.model_selection import GridSearchCV\n",
    "from sklearn.metrics import f1_score, make_scorer\n",
    "\n",
    "#F1 scorer\n",
    "f1 = make_scorer(f1_score , average='macro')\n",
    "\n",
    "param_grid = {\n",
    "    'classifier__n_estimators': [400,500,800],  # Number of trees in the forest\n",
    "    'classifier__max_depth': [60,80,None],\n",
    "    'classifier__min_samples_leaf': [2,10,50],\n",
    "    #'classifier__min_samples_split': [5,7]\n",
    "}\n",
    "\n",
    "# Perform grid search\n",
    "grid_search = GridSearchCV(ensemble_pipeline, param_grid, cv=5, scoring=f1,n_jobs=-1,verbose=3)\n",
    "grid_search.fit(X_train_predictions,y_train)\n",
    "\n",
    "# Best parameters and best score\n",
    "print(\"Best parameters:\", grid_search.best_params_)\n",
    "print(f\"F1 Score: {100*grid_search.best_score_:.2f}%\")\n",
    "\n",
    "# Get the best pipeline\n",
    "best_ensemble_pipeline = grid_search.best_estimator_\n",
    "\n",
    "#Fitting 5 folds for each of 27 candidates, totalling 135 fits\n",
    "#Best parameters: {'classifier__max_depth': 60, 'classifier__min_samples_leaf': 2, 'classifier__n_estimators': 800}\n",
    "#F1 Score: 80.17%"
   ]
  },
  {
   "cell_type": "code",
   "execution_count": 39,
   "metadata": {},
   "outputs": [
    {
     "name": "stdout",
     "output_type": "stream",
     "text": [
      "Fitting 5 folds for each of 27 candidates, totalling 135 fits\n"
     ]
    },
    {
     "name": "stderr",
     "output_type": "stream",
     "text": [
      "c:\\Users\\Chis\\Documents\\Python\\ML\\.conda\\lib\\site-packages\\sklearn\\model_selection\\_validation.py:547: FitFailedWarning: \n",
      "45 fits failed out of a total of 135.\n",
      "The score on these train-test partitions for these parameters will be set to nan.\n",
      "If these failures are not expected, you can try to debug them by setting error_score='raise'.\n",
      "\n",
      "Below are more details about the failures:\n",
      "--------------------------------------------------------------------------------\n",
      "45 fits failed with the following error:\n",
      "Traceback (most recent call last):\n",
      "  File \"c:\\Users\\Chis\\Documents\\Python\\ML\\.conda\\lib\\site-packages\\sklearn\\model_selection\\_validation.py\", line 895, in _fit_and_score\n",
      "    estimator.fit(X_train, y_train, **fit_params)\n",
      "  File \"c:\\Users\\Chis\\Documents\\Python\\ML\\.conda\\lib\\site-packages\\sklearn\\base.py\", line 1474, in wrapper\n",
      "    return fit_method(estimator, *args, **kwargs)\n",
      "  File \"c:\\Users\\Chis\\Documents\\Python\\ML\\.conda\\lib\\site-packages\\sklearn\\pipeline.py\", line 475, in fit\n",
      "    self._final_estimator.fit(Xt, y, **last_step_params[\"fit\"])\n",
      "  File \"c:\\Users\\Chis\\Documents\\Python\\ML\\.conda\\lib\\site-packages\\sklearn\\base.py\", line 1467, in wrapper\n",
      "    estimator._validate_params()\n",
      "  File \"c:\\Users\\Chis\\Documents\\Python\\ML\\.conda\\lib\\site-packages\\sklearn\\base.py\", line 666, in _validate_params\n",
      "    validate_parameter_constraints(\n",
      "  File \"c:\\Users\\Chis\\Documents\\Python\\ML\\.conda\\lib\\site-packages\\sklearn\\utils\\_param_validation.py\", line 95, in validate_parameter_constraints\n",
      "    raise InvalidParameterError(\n",
      "sklearn.utils._param_validation.InvalidParameterError: The 'min_samples_leaf' parameter of RandomForestClassifier must be an int in the range [1, inf) or a float in the range (0.0, 1.0). Got None instead.\n",
      "\n",
      "  warnings.warn(some_fits_failed_message, FitFailedWarning)\n",
      "c:\\Users\\Chis\\Documents\\Python\\ML\\.conda\\lib\\site-packages\\sklearn\\model_selection\\_search.py:1051: UserWarning: One or more of the test scores are non-finite: [       nan        nan        nan 0.80163317 0.80170077 0.80213205\n",
      " 0.78144833 0.78108951 0.78146685        nan        nan        nan\n",
      " 0.80163317 0.80170077 0.80213205 0.78144833 0.78108951 0.78146685\n",
      "        nan        nan        nan 0.80163317 0.80170077 0.80213205\n",
      " 0.78144833 0.78108951 0.78146685]\n",
      "  warnings.warn(\n"
     ]
    },
    {
     "name": "stdout",
     "output_type": "stream",
     "text": [
      "Best parameters: {'classifier__max_depth': 55, 'classifier__min_samples_leaf': 2, 'classifier__n_estimators': 1200}\n",
      "F1 Score: 80.21%\n"
     ]
    }
   ],
   "source": [
    "## Tertiary Grid Search ##\n",
    "param_grid = {\n",
    "    'classifier__n_estimators': [700,800,1200],\n",
    "    'classifier__max_depth': [55,60,65],\n",
    "    'classifier__min_samples_leaf': [None,2,10],\n",
    "    #'classifier__min_samples_split': [5,7]\n",
    "}\n",
    "\n",
    "# Perform grid search\n",
    "grid_search = GridSearchCV(ensemble_pipeline, param_grid, cv=5, scoring=f1,n_jobs=8,verbose=3)\n",
    "grid_search.fit(X_train_predictions,y_train)\n",
    "\n",
    "# Best parameters and best score\n",
    "print(\"Best parameters:\", grid_search.best_params_)\n",
    "print(f\"F1 Score: {100*grid_search.best_score_:.2f}%\")\n",
    "\n",
    "# Get the best pipeline\n",
    "best_ensemble_pipeline = grid_search.best_estimator_\n",
    "\n",
    "#Best parameters: {'classifier__max_depth': 55, 'classifier__min_samples_leaf': 2, 'classifier__n_estimators': 1200}\n",
    "#F1 Score: 80.21%"
   ]
  },
  {
   "cell_type": "code",
   "execution_count": 40,
   "metadata": {},
   "outputs": [
    {
     "name": "stdout",
     "output_type": "stream",
     "text": [
      "Fitting 5 folds for each of 12 candidates, totalling 60 fits\n",
      "Best parameters: {'classifier__max_depth': 55, 'classifier__min_samples_leaf': 1, 'classifier__min_samples_split': 2, 'classifier__n_estimators': 1200}\n",
      "F1 Score: 80.28%\n"
     ]
    }
   ],
   "source": [
    "## 4th Grid Search ##\n",
    "param_grid = {\n",
    "    'classifier__n_estimators': [1200],\n",
    "    'classifier__max_depth': [50,55],\n",
    "    'classifier__min_samples_leaf': [1,2],\n",
    "    'classifier__min_samples_split': [2,5,7]\n",
    "}\n",
    "\n",
    "# Perform grid search\n",
    "grid_search = GridSearchCV(ensemble_pipeline, param_grid, cv=5, scoring=f1,n_jobs=8,verbose=3)\n",
    "grid_search.fit(X_train_predictions,y_train)\n",
    "\n",
    "# Best parameters and best score\n",
    "print(\"Best parameters:\", grid_search.best_params_)\n",
    "print(f\"F1 Score: {100*grid_search.best_score_:.2f}%\")\n",
    "\n",
    "# Get the best pipeline\n",
    "best_ensemble_pipeline = grid_search.best_estimator_\n",
    "\n",
    "#Fitting 5 folds for each of 12 candidates, totalling 60 fits\n",
    "#Best parameters: {'classifier__max_depth': 55, 'classifier__min_samples_leaf': 1, 'classifier__min_samples_split': 2, 'classifier__n_estimators': 1200}\n",
    "#F1 Score: 80.28%"
   ]
  },
  {
   "cell_type": "code",
   "execution_count": 44,
   "metadata": {},
   "outputs": [
    {
     "name": "stdout",
     "output_type": "stream",
     "text": [
      "Fitting 5 folds for each of 8 candidates, totalling 40 fits\n",
      "Best parameters: {'classifier__max_depth': 55, 'classifier__min_samples_leaf': 1, 'classifier__n_estimators': 1500}\n",
      "F1 Score: 80.00%\n"
     ]
    }
   ],
   "source": [
    "## 5th Grid Search ##\n",
    "param_grid = {\n",
    "    'classifier__n_estimators': [1200, 1500],\n",
    "    'classifier__max_depth': [55,60],\n",
    "    'classifier__min_samples_leaf': [1,2],\n",
    "    #'classifier__min_samples_split': [2] #default 2\n",
    "}\n",
    "\n",
    "# Perform grid search\n",
    "grid_search = GridSearchCV(ensemble_pipeline, param_grid, cv=5, scoring=f1,n_jobs=-1,verbose=3)\n",
    "grid_search.fit(X_train_predictions,y_train)\n",
    "\n",
    "# Best parameters and best score\n",
    "print(\"Best parameters:\", grid_search.best_params_)\n",
    "print(f\"F1 Score: {100*grid_search.best_score_:.2f}%\")\n",
    "\n",
    "# Get the best pipeline\n",
    "best_ensemble_pipeline = grid_search.best_estimator_\n",
    "\n",
    "#Fitting 5 folds for each of 8 candidates, totalling 40 fits\n",
    "#Best parameters: {'classifier__max_depth': 55, 'classifier__min_samples_leaf': 1, 'classifier__n_estimators': 1500}\n",
    "#F1 Score: 80.00%"
   ]
  },
  {
   "cell_type": "code",
   "execution_count": 46,
   "metadata": {},
   "outputs": [],
   "source": [
    "## Performance on test and validation data ##\n",
    "#y_test_ensemble_predictions = best_ensemble_pipeline.predict(X_test_predictions)\n",
    "y_validation_ensemble_predictions_proba = best_ensemble_pipeline.predict_proba(X_validation_predictions)\n"
   ]
  },
  {
   "cell_type": "code",
   "execution_count": 53,
   "metadata": {},
   "outputs": [
    {
     "name": "stdout",
     "output_type": "stream",
     "text": [
      "Validation set accuracy: 0.7634984381972334\n",
      "f1 score:  0.6156635242929659\n"
     ]
    }
   ],
   "source": [
    "from sklearn.metrics import accuracy_score, f1_score\n",
    "\n",
    "# Predict on the validation set\n",
    "y_validation_pred = (best_ensemble_pipeline.predict_proba(X_validation_predictions)[:,1] > 0.2).astype(int)\n",
    "\n",
    "# Evaluate the accuracy of the model on the validation set\n",
    "accuracy = accuracy_score(y_validation, y_validation_pred)\n",
    "print(\"Validation set accuracy:\", accuracy)\n",
    "print('f1 score: ',f1_score(y_validation, y_validation_pred))"
   ]
  },
  {
   "cell_type": "markdown",
   "metadata": {},
   "source": [
    "**Visuals cont**"
   ]
  },
  {
   "cell_type": "code",
   "execution_count": 6,
   "metadata": {},
   "outputs": [],
   "source": [
    "import joblib\n",
    "\n",
    "model = joblib.load('SVM_stacking_GS1.joblib')"
   ]
  },
  {
   "cell_type": "code",
   "execution_count": 10,
   "metadata": {},
   "outputs": [],
   "source": [
    "X_valid_prediction = pd.read_csv('X_val_ANN-RT-SVM.csv')\n",
    "X_valid_prediction.drop(columns={'Unnamed: 0'},inplace=True)\n",
    "y_val_pred = model.predict(X_valid_prediction)"
   ]
  },
  {
   "cell_type": "code",
   "execution_count": 11,
   "metadata": {},
   "outputs": [
    {
     "name": "stdout",
     "output_type": "stream",
     "text": [
      "Validation set accuracy: 0.9343741510553248\n",
      "f1 score:  0.057488653555219364\n",
      "Precision: 0.030575082578131615\n",
      "Recall: 0.4800531914893617\n"
     ]
    }
   ],
   "source": [
    "from Visualization_functions import print_metrics\n",
    "\n",
    "\n",
    "print_metrics(y_validation,y_val_pred)"
   ]
  }
 ],
 "metadata": {
  "kernelspec": {
   "display_name": "Python 3",
   "language": "python",
   "name": "python3"
  },
  "language_info": {
   "codemirror_mode": {
    "name": "ipython",
    "version": 3
   },
   "file_extension": ".py",
   "mimetype": "text/x-python",
   "name": "python",
   "nbconvert_exporter": "python",
   "pygments_lexer": "ipython3",
   "version": "3.10.13"
  }
 },
 "nbformat": 4,
 "nbformat_minor": 2
}
