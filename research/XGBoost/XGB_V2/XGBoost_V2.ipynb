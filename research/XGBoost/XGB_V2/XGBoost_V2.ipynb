{
 "cells": [
  {
   "cell_type": "code",
   "execution_count": 1,
   "id": "553d85a4-7320-4463-9e3f-4b380c2cc061",
   "metadata": {},
   "outputs": [
    {
     "name": "stdout",
     "output_type": "stream",
     "text": [
      "Defaulting to user installation because normal site-packages is not writeable\n",
      "Collecting xgboost\n",
      "  Downloading xgboost-2.0.3-py3-none-manylinux2014_x86_64.whl.metadata (2.0 kB)\n",
      "Requirement already satisfied: numpy in /home/jupyter-caitken/.local/lib/python3.10/site-packages (from xgboost) (1.24.4)\n",
      "Requirement already satisfied: scipy in /home/jupyter-caitken/.local/lib/python3.10/site-packages (from xgboost) (1.13.0)\n",
      "Downloading xgboost-2.0.3-py3-none-manylinux2014_x86_64.whl (297.1 MB)\n",
      "\u001b[2K   \u001b[90m━━━━━━━━━━━━━━━━━━━━━━━━━━━━━━━━━━━━━━━━\u001b[0m \u001b[32m297.1/297.1 MB\u001b[0m \u001b[31m4.6 MB/s\u001b[0m eta \u001b[36m0:00:00\u001b[0m:00:01\u001b[0m00:01\u001b[0m\n",
      "\u001b[?25hInstalling collected packages: xgboost\n",
      "Successfully installed xgboost-2.0.3\n"
     ]
    }
   ],
   "source": [
    "!pip install xgboost"
   ]
  },
  {
   "cell_type": "code",
   "execution_count": 1,
   "id": "c0131ba0-8da3-4a2e-84c2-4977fd8f1ebd",
   "metadata": {},
   "outputs": [],
   "source": [
    "import pandas as pd\n",
    "import numpy as np\n",
    "\n",
    "import xgboost as xgb\n",
    "from sklearn.datasets import make_classification\n",
    "from sklearn.model_selection import train_test_split\n",
    "from sklearn.metrics import classification_report, precision_recall_curve, auc"
   ]
  },
  {
   "cell_type": "code",
   "execution_count": 2,
   "id": "af80f452-0435-4042-baf8-5e5862e48096",
   "metadata": {},
   "outputs": [],
   "source": [
    "def load_full_df():\n",
    "    main_df = pd.read_csv(\"processed_wildfire_ERA5_FWI.csv\",index_col=0)\n",
    "    main_df['date'] = pd.to_datetime(main_df['date'])\n",
    "    main_df.rename(columns={'latitude_ERA5': 'latitude', 'longitude_ERA5': 'longitude'},inplace=True)\n",
    "    unnamed_cols = [col for col in main_df.columns if col.startswith('Unnamed:')]\n",
    "    main_df.drop(columns=unnamed_cols, inplace=True)\n",
    "    main_df['type_of_high_vegetation'] = main_df['type_of_high_vegetation'].astype(int)\n",
    "    main_df['type_of_low_vegetation'] = main_df['type_of_low_vegetation'].astype(int)\n",
    "    return main_df\n",
    "\n",
    "def test_train_validation_split(validation_df, test_train_df, target_variable='fire', test_proportion=0.33):\n",
    "    \"\"\"\n",
    "    Validation data is obtained by taking all data after a certain time. This is similar to model deployment.\n",
    "    Train and test data are obtained using a stratified split\n",
    "    \"\"\"\n",
    "    X_validation = validation_df.drop(columns={target_variable})\n",
    "    y_validation = validation_df[target_variable]\n",
    "\n",
    "    X_train, X_test, y_train, y_test = train_test_split(test_train_df.drop(columns={target_variable}), \n",
    "                                                        test_train_df[target_variable], \n",
    "                                                        test_size=test_proportion,\n",
    "                                                        stratify=test_train_df[target_variable], \n",
    "                                                        random_state=42)\n",
    "    \n",
    "    return X_train, X_test, X_validation, y_train, y_test, y_validation"
   ]
  },
  {
   "cell_type": "code",
   "execution_count": 4,
   "id": "ef8b5604-ab3d-47d9-bde5-b50e1bc96a1c",
   "metadata": {},
   "outputs": [],
   "source": [
    "main_df = load_full_df()\n",
    "\n",
    "# Create the validation dataframe out of data after 2019\n",
    "validation_df = main_df[main_df['date'] > pd.Timestamp('2019-01-01')]\n",
    "test_train_df = main_df[main_df['date'] < pd.Timestamp('2019-01-01')]\n",
    "\n",
    "X_train, X_test, X_validation, y_train, y_test, y_validation = test_train_validation_split(validation_df, test_train_df, target_variable='fire', test_proportion=0.25)"
   ]
  },
  {
   "cell_type": "code",
   "execution_count": 5,
   "id": "c54a8632-f715-46c1-a6ff-7c5bb6f96f5d",
   "metadata": {},
   "outputs": [],
   "source": [
    "from sklearn.pipeline import Pipeline, FeatureUnion\n",
    "from sklearn.compose import ColumnTransformer\n",
    "from sklearn.preprocessing import StandardScaler, OneHotEncoder, FunctionTransformer\n",
    "from sklearn.utils.class_weight import compute_class_weight\n",
    "from xgboost import XGBClassifier\n",
    "\n",
    "# Define features to include #\n",
    "pass_features = ['leaf_area_index_high_vegetation', 'slope_of_sub_gridscale_orography']\n",
    "categorical_features = ['type_of_high_vegetation']\n",
    "numeric_features = ['DMC','global_noon_LST_2m_temperature','BUI',\n",
    "                'FWI','latitude','FFMC','global_noon_LST_relative_humidity','24hr_max_temperature',\n",
    "                'global_noon_LST_2m_temperature_1dayLag','global_noon_LST_2m_temperature_2dayLag',\n",
    "                'high_vegetation_cover','24hr_max_temperature_1dayLag','low_vegetation_cover',\n",
    "                '24hr_accumulated_precipitation']\n",
    "####\n",
    "\n",
    "# Define custom preprocessing functions. Put any custom functions in SVM_functions.py also so they are accessible by the ensemble\n",
    "def extract_day_of_year(X):\n",
    "    day_of_year = X['date'].dt.dayofyear.to_frame(name='day_of_the_year')\n",
    "    return day_of_year\n",
    "\n",
    "# Splitting the dataset into training and validation sets# Data Preprocessing Steps\n",
    "date_transformer = ColumnTransformer(\n",
    "    transformers=[\n",
    "        ('date', FunctionTransformer(extract_day_of_year, validate=False), ['date'])\n",
    "    ],\n",
    "    verbose_feature_names_out=False,\n",
    "    remainder='passthrough'\n",
    ").set_output(transform='pandas')\n",
    "\n",
    "scale = ColumnTransformer(\n",
    "    transformers=[\n",
    "        ('scale_transformer', StandardScaler(), numeric_features)\n",
    "    ],\n",
    "    verbose_feature_names_out=False\n",
    ").set_output(transform='pandas')\n",
    "\n",
    "cate = ColumnTransformer(\n",
    "    transformers=[\n",
    "        ('categorical_transformer', OneHotEncoder(sparse_output=False), categorical_features)\n",
    "    ],\n",
    "    verbose_feature_names_out=False\n",
    ").set_output(transform='pandas')\n",
    "\n",
    "pss = ColumnTransformer(\n",
    "    transformers=[\n",
    "        ('Pass_transformer', 'passthrough', pass_features)\n",
    "    ],\n",
    "    verbose_feature_names_out=False\n",
    ").set_output(transform='pandas')\n",
    "\n",
    "feature_union = FeatureUnion([\n",
    "    ('numeric', scale),\n",
    "    ('categorical', cate),\n",
    "    ('pass', pss),\n",
    "])\n",
    "\n",
    "preprocessing_pipeline = Pipeline([\n",
    "    ('day_of_year', date_transformer),\n",
    "    ('feature_union', feature_union),\n",
    "])"
   ]
  },
  {
   "cell_type": "code",
   "execution_count": 6,
   "id": "57e74c91",
   "metadata": {},
   "outputs": [
    {
     "data": {
      "text/plain": [
       "['XGB_V2_pipeline.joblib']"
      ]
     },
     "execution_count": 6,
     "metadata": {},
     "output_type": "execute_result"
    }
   ],
   "source": [
    "from joblib import dump\n",
    "\n",
    "preprocessing_pipeline.fit(X_train)\n",
    "dump(preprocessing_pipeline,'XGB_V2_pipeline.joblib')"
   ]
  },
  {
   "cell_type": "code",
   "execution_count": 16,
   "id": "b4eda45d-4109-488b-8b79-1e785158e478",
   "metadata": {},
   "outputs": [],
   "source": [
    "# Pipeline Testing\n",
    "#S1 = full_pipeline.named_steps['day_of_year'].fit_transform(X_train)\n",
    "#S2 = full_pipeline.named_steps['feature_union'].fit_transform(S1)"
   ]
  },
  {
   "cell_type": "code",
   "execution_count": 14,
   "id": "f8005443-dc21-44eb-862b-99a672f8dffb",
   "metadata": {},
   "outputs": [],
   "source": [
    "# Apply preprocessing\n",
    "X_train_preprocessed = preprocessing_pipeline.fit_transform(X_train)\n",
    "X_test_preprocessed = preprocessing_pipeline.transform(X_test)\n",
    "X_validation_preprocessed = preprocessing_pipeline.transform(X_validation)\n",
    "\n",
    "# Create DMatrix for train and validation sets\n",
    "dtrain = xgb.DMatrix(X_train_preprocessed, label=y_train)\n",
    "dtest = xgb.DMatrix(X_test_preprocessed, label=y_test)\n",
    "dvalidation = xgb.DMatrix(X_validation_preprocessed, label=y_validation)"
   ]
  },
  {
   "cell_type": "code",
   "execution_count": 7,
   "id": "e8d716a9-3f8b-4c5b-a492-efc47f5ba565",
   "metadata": {},
   "outputs": [
    {
     "name": "stdout",
     "output_type": "stream",
     "text": [
      "Mean AUC: 0.8332791055772905 for params: {'objective': 'binary:logistic', 'scale_pos_weight': 171.49972345132744, 'eval_metric': 'logloss', 'tree_method': 'hist', 'device': 'cuda', 'max_depth': None, 'learning_rate': 0.01}, num_boost_round = 300\n",
      "Mean AUC: 0.8383826045979879 for params: {'objective': 'binary:logistic', 'scale_pos_weight': 171.49972345132744, 'eval_metric': 'logloss', 'tree_method': 'hist', 'device': 'cuda', 'max_depth': None, 'learning_rate': 0.01}, num_boost_round = 400\n",
      "Mean AUC: 0.8429233608366161 for params: {'objective': 'binary:logistic', 'scale_pos_weight': 171.49972345132744, 'eval_metric': 'logloss', 'tree_method': 'hist', 'device': 'cuda', 'max_depth': None, 'learning_rate': 0.01}, num_boost_round = 500\n",
      "Mean AUC: 0.85809216482452 for params: {'objective': 'binary:logistic', 'scale_pos_weight': 171.49972345132744, 'eval_metric': 'logloss', 'tree_method': 'hist', 'device': 'cuda', 'max_depth': None, 'learning_rate': 0.1}, num_boost_round = 300\n",
      "Mean AUC: 0.85809216482452 for params: {'objective': 'binary:logistic', 'scale_pos_weight': 171.49972345132744, 'eval_metric': 'logloss', 'tree_method': 'hist', 'device': 'cuda', 'max_depth': None, 'learning_rate': 0.1}, num_boost_round = 400\n",
      "Mean AUC: 0.85809216482452 for params: {'objective': 'binary:logistic', 'scale_pos_weight': 171.49972345132744, 'eval_metric': 'logloss', 'tree_method': 'hist', 'device': 'cuda', 'max_depth': None, 'learning_rate': 0.1}, num_boost_round = 500\n",
      "Mean AUC: 0.8556997924643603 for params: {'objective': 'binary:logistic', 'scale_pos_weight': 171.49972345132744, 'eval_metric': 'logloss', 'tree_method': 'hist', 'device': 'cuda', 'max_depth': None, 'learning_rate': 0.2}, num_boost_round = 300\n",
      "Mean AUC: 0.8556997924643603 for params: {'objective': 'binary:logistic', 'scale_pos_weight': 171.49972345132744, 'eval_metric': 'logloss', 'tree_method': 'hist', 'device': 'cuda', 'max_depth': None, 'learning_rate': 0.2}, num_boost_round = 400\n",
      "Mean AUC: 0.8556997924643603 for params: {'objective': 'binary:logistic', 'scale_pos_weight': 171.49972345132744, 'eval_metric': 'logloss', 'tree_method': 'hist', 'device': 'cuda', 'max_depth': None, 'learning_rate': 0.2}, num_boost_round = 500\n",
      "Mean AUC: 0.8149305830920323 for params: {'objective': 'binary:logistic', 'scale_pos_weight': 171.49972345132744, 'eval_metric': 'logloss', 'tree_method': 'hist', 'device': 'cuda', 'max_depth': 4, 'learning_rate': 0.01}, num_boost_round = 300\n",
      "Mean AUC: 0.8205793584711462 for params: {'objective': 'binary:logistic', 'scale_pos_weight': 171.49972345132744, 'eval_metric': 'logloss', 'tree_method': 'hist', 'device': 'cuda', 'max_depth': 4, 'learning_rate': 0.01}, num_boost_round = 400\n",
      "Mean AUC: 0.8244263230434481 for params: {'objective': 'binary:logistic', 'scale_pos_weight': 171.49972345132744, 'eval_metric': 'logloss', 'tree_method': 'hist', 'device': 'cuda', 'max_depth': 4, 'learning_rate': 0.01}, num_boost_round = 500\n",
      "Mean AUC: 0.8541198934017181 for params: {'objective': 'binary:logistic', 'scale_pos_weight': 171.49972345132744, 'eval_metric': 'logloss', 'tree_method': 'hist', 'device': 'cuda', 'max_depth': 4, 'learning_rate': 0.1}, num_boost_round = 300\n",
      "Mean AUC: 0.8564102153565127 for params: {'objective': 'binary:logistic', 'scale_pos_weight': 171.49972345132744, 'eval_metric': 'logloss', 'tree_method': 'hist', 'device': 'cuda', 'max_depth': 4, 'learning_rate': 0.1}, num_boost_round = 400\n",
      "Mean AUC: 0.8579492240421924 for params: {'objective': 'binary:logistic', 'scale_pos_weight': 171.49972345132744, 'eval_metric': 'logloss', 'tree_method': 'hist', 'device': 'cuda', 'max_depth': 4, 'learning_rate': 0.1}, num_boost_round = 500\n",
      "Mean AUC: 0.856373355535565 for params: {'objective': 'binary:logistic', 'scale_pos_weight': 171.49972345132744, 'eval_metric': 'logloss', 'tree_method': 'hist', 'device': 'cuda', 'max_depth': 4, 'learning_rate': 0.2}, num_boost_round = 300\n",
      "Mean AUC: 0.856373355535565 for params: {'objective': 'binary:logistic', 'scale_pos_weight': 171.49972345132744, 'eval_metric': 'logloss', 'tree_method': 'hist', 'device': 'cuda', 'max_depth': 4, 'learning_rate': 0.2}, num_boost_round = 400\n",
      "Mean AUC: 0.856373355535565 for params: {'objective': 'binary:logistic', 'scale_pos_weight': 171.49972345132744, 'eval_metric': 'logloss', 'tree_method': 'hist', 'device': 'cuda', 'max_depth': 4, 'learning_rate': 0.2}, num_boost_round = 500\n",
      "Mean AUC: 0.8246849416877955 for params: {'objective': 'binary:logistic', 'scale_pos_weight': 171.49972345132744, 'eval_metric': 'logloss', 'tree_method': 'hist', 'device': 'cuda', 'max_depth': 5, 'learning_rate': 0.01}, num_boost_round = 300\n",
      "Mean AUC: 0.8302070198016575 for params: {'objective': 'binary:logistic', 'scale_pos_weight': 171.49972345132744, 'eval_metric': 'logloss', 'tree_method': 'hist', 'device': 'cuda', 'max_depth': 5, 'learning_rate': 0.01}, num_boost_round = 400\n",
      "Mean AUC: 0.8343769545434704 for params: {'objective': 'binary:logistic', 'scale_pos_weight': 171.49972345132744, 'eval_metric': 'logloss', 'tree_method': 'hist', 'device': 'cuda', 'max_depth': 5, 'learning_rate': 0.01}, num_boost_round = 500\n",
      "Mean AUC: 0.8573803820424158 for params: {'objective': 'binary:logistic', 'scale_pos_weight': 171.49972345132744, 'eval_metric': 'logloss', 'tree_method': 'hist', 'device': 'cuda', 'max_depth': 5, 'learning_rate': 0.1}, num_boost_round = 300\n",
      "Mean AUC: 0.8586578595895908 for params: {'objective': 'binary:logistic', 'scale_pos_weight': 171.49972345132744, 'eval_metric': 'logloss', 'tree_method': 'hist', 'device': 'cuda', 'max_depth': 5, 'learning_rate': 0.1}, num_boost_round = 400\n",
      "Mean AUC: 0.8586578595895908 for params: {'objective': 'binary:logistic', 'scale_pos_weight': 171.49972345132744, 'eval_metric': 'logloss', 'tree_method': 'hist', 'device': 'cuda', 'max_depth': 5, 'learning_rate': 0.1}, num_boost_round = 500\n",
      "Mean AUC: 0.8569451447128131 for params: {'objective': 'binary:logistic', 'scale_pos_weight': 171.49972345132744, 'eval_metric': 'logloss', 'tree_method': 'hist', 'device': 'cuda', 'max_depth': 5, 'learning_rate': 0.2}, num_boost_round = 300\n",
      "Mean AUC: 0.8569451447128131 for params: {'objective': 'binary:logistic', 'scale_pos_weight': 171.49972345132744, 'eval_metric': 'logloss', 'tree_method': 'hist', 'device': 'cuda', 'max_depth': 5, 'learning_rate': 0.2}, num_boost_round = 400\n",
      "Mean AUC: 0.8569451447128131 for params: {'objective': 'binary:logistic', 'scale_pos_weight': 171.49972345132744, 'eval_metric': 'logloss', 'tree_method': 'hist', 'device': 'cuda', 'max_depth': 5, 'learning_rate': 0.2}, num_boost_round = 500\n",
      "Best parameters: {'objective': 'binary:logistic', 'scale_pos_weight': 171.49972345132744, 'eval_metric': 'logloss', 'tree_method': 'hist', 'device': 'cuda', 'max_depth': 5, 'learning_rate': 0.1}\n",
      "Best num_boost_round 400\n",
      "Best cross-validation AUC: 0.86\n"
     ]
    }
   ],
   "source": [
    "import xgboost as xgb\n",
    "import numpy as np\n",
    "from sklearn.metrics import roc_auc_score\n",
    "from sklearn.model_selection import KFold\n",
    "\n",
    "# Define the parameter grid\n",
    "param_grid = {\n",
    "    'max_depth': [None, 4, 5],\n",
    "    'learning_rate': [0.01, 0.1, 0.2],\n",
    "    'num_boost_round': [300, 400, 500]\n",
    "}\n",
    "\n",
    "# Function to perform grid search with verbose output\n",
    "def manual_grid_search(dtrain, param_grid, ratio, folds=5):\n",
    "    best_auc = 0\n",
    "    best_params = {}\n",
    "    best_num_boost_round = 0  # Variable to store the best number of boosting rounds\n",
    "    for max_depth in param_grid['max_depth']:\n",
    "        for learning_rate in param_grid['learning_rate']:\n",
    "            for num_boost_round in param_grid['num_boost_round']:\n",
    "                params = {\n",
    "                    'objective': 'binary:logistic',\n",
    "                    'scale_pos_weight': ratio,\n",
    "                    'eval_metric': 'logloss',\n",
    "                    'tree_method': 'hist',\n",
    "                    'device': 'cuda',\n",
    "                    'max_depth': max_depth,\n",
    "                    'learning_rate': learning_rate,\n",
    "                }\n",
    "                # Perform k-fold cross validation\n",
    "                cv_results = xgb.cv(params, dtrain, num_boost_round=num_boost_round, nfold=folds,\n",
    "                                        metrics='auc', early_stopping_rounds=10, seed=42, verbose_eval=False)\n",
    "                mean_auc = cv_results['test-auc-mean'].max()\n",
    "                print(f\"Mean AUC: {mean_auc} for params: {params}, num_boost_round = {num_boost_round}\")\n",
    "                if mean_auc > best_auc:\n",
    "                    best_auc = mean_auc\n",
    "                    best_params = params\n",
    "                    best_num_boost_round = num_boost_round  # Update the best num_boost_round\n",
    "\n",
    "    return best_params, best_auc, best_num_boost_round\n",
    "\n",
    "# Calculate the ratio of negative to positive samples for scale_pos_weight\n",
    "ratio = float(np.sum(y_train == 0)) / np.sum(y_train == 1)\n",
    "\n",
    "# Execute manual grid search\n",
    "best_params, best_auc, best_num_boost_round = manual_grid_search(dtrain, param_grid, ratio)\n",
    "print(\"Best parameters:\", best_params)\n",
    "print(\"Best num_boost_round\",best_num_boost_round)\n",
    "print(\"Best cross-validation AUC: {:.2f}\".format(best_auc))\n",
    "\n",
    "# Train the final model with the best parameters and the optimal number of boosting rounds\n",
    "final_model = xgb.train(best_params, dtrain, num_boost_round=best_num_boost_round)\n",
    "final_model.save_model('final_XGBoost_V2.json')\n",
    "#GS1\n",
    "#Best parameters: {'objective': 'binary:logistic', 'scale_pos_weight': 171.49972345132744, 'eval_metric': 'logloss', 'tree_method': 'hist', 'device': 'cuda', 'max_depth': 5, 'learning_rate': 0.1, 'num_boost_round': 400}\n",
    "#Best cross-validation AUC: 0.86\n",
    "\n",
    "#GS2\n",
    "#Best parameters: {'objective': 'binary:logistic', 'scale_pos_weight': 171.49972345132744, 'eval_metric': 'logloss', 'tree_method': 'hist', 'device': 'cuda', 'max_depth': 5, 'learning_rate': 0.1}\n",
    "#Best cross-validation AUC: 0.86"
   ]
  },
  {
   "cell_type": "code",
   "execution_count": 7,
   "id": "bc55dbf4-a84c-4940-8426-e9d4b6bbae45",
   "metadata": {},
   "outputs": [],
   "source": [
    "import xgboost as xgb\n",
    "import numpy as np\n",
    "from sklearn.metrics import roc_auc_score\n",
    "from sklearn.model_selection import KFold\n",
    "\n",
    "# Calculate the ratio of negative to positive samples for scale_pos_weight\n",
    "ratio = float(np.sum(y_train == 0)) / np.sum(y_train == 1)\n",
    "\n",
    "best_params = {\n",
    "                'objective': 'binary:logistic',\n",
    "                'scale_pos_weight': ratio,\n",
    "                'eval_metric': 'logloss',\n",
    "                'tree_method': 'hist',\n",
    "                'device': 'cuda',\n",
    "                'max_depth': 5,\n",
    "                'learning_rate': 0.1,\n",
    "            }\n",
    "\n",
    "# Train the final model with the best parameters and the optimal number of boosting rounds\n",
    "final_model = xgb.train(best_params, dtrain, num_boost_round=400)"
   ]
  },
  {
   "cell_type": "code",
   "execution_count": 9,
   "id": "ef26a158-3a92-459b-b08f-eb758af1fe2a",
   "metadata": {},
   "outputs": [],
   "source": [
    "# Optionally, you can save it to a JSON format (available in recent versions of XGBoost)\n",
    "final_model.save_model('final_XGBoost.json')"
   ]
  },
  {
   "cell_type": "code",
   "execution_count": 9,
   "id": "6b8ec764-89b8-4221-bed6-5e6230084633",
   "metadata": {},
   "outputs": [],
   "source": [
    "# Load the model\n",
    "loaded_model = xgb.XGBClassifier()\n",
    "loaded_model.load_model('final_XGBoost_V2.json')"
   ]
  },
  {
   "cell_type": "code",
   "execution_count": 16,
   "id": "d418b78e-cb1b-4b41-9229-25b076fb03a3",
   "metadata": {},
   "outputs": [
    {
     "name": "stdout",
     "output_type": "stream",
     "text": [
      "Classification Report:\n",
      "              precision    recall  f1-score   support\n",
      "\n",
      "           0       1.00      0.86      0.92    179619\n",
      "           1       0.02      0.66      0.04       752\n",
      "\n",
      "    accuracy                           0.86    180371\n",
      "   macro avg       0.51      0.76      0.48    180371\n",
      "weighted avg       0.99      0.86      0.92    180371\n",
      "\n",
      "Precision-Recall AUC: 0.3407547101084813\n"
     ]
    }
   ],
   "source": [
    "# Predictions\n",
    "y_pred_proba = loaded_model.predict(X_validation_preprocessed)\n",
    "y_pred = (y_pred_proba > 0.5).astype(int)\n",
    "\n",
    "# Evaluate the model\n",
    "print(\"Classification Report:\")\n",
    "print(classification_report(y_validation, y_pred))\n",
    "\n",
    "# Precision-Recall curve and AUC\n",
    "precision, recall, thresholds = precision_recall_curve(y_validation, y_pred_proba)\n",
    "pr_auc = auc(recall, precision)\n",
    "print(f\"Precision-Recall AUC: {pr_auc}\")"
   ]
  },
  {
   "cell_type": "code",
   "execution_count": 17,
   "id": "18b5662a",
   "metadata": {},
   "outputs": [
    {
     "data": {
      "image/png": "[encoded data removed]",
      "text/plain": [
       "<Figure size 640x480 with 1 Axes>"
      ]
     },
     "metadata": {},
     "output_type": "display_data"
    }
   ],
   "source": [
    "from Visualization_functions import plot_roc_curve, generate_visualizations\n",
    "\n",
    "plot_roc_curve(y_validation,y_pred_proba)"
   ]
  },
  {
   "cell_type": "code",
   "execution_count": 20,
   "id": "fc8721d4",
   "metadata": {},
   "outputs": [],
   "source": [
    "\n",
    "generate_visualizations(X_validation,y_pred,y_validation,main_df,'XGB_V2_visuals')\n"
   ]
  }
 ],
 "metadata": {
  "kernelspec": {
   "display_name": "Python 3 (ipykernel)",
   "language": "python",
   "name": "python3"
  },
  "language_info": {
   "codemirror_mode": {
    "name": "ipython",
    "version": 3
   },
   "file_extension": ".py",
   "mimetype": "text/x-python",
   "name": "python",
   "nbconvert_exporter": "python",
   "pygments_lexer": "ipython3",
   "version": "3.10.13"
  }
 },
 "nbformat": 4,
 "nbformat_minor": 5
}
