{
 "cells": [
  {
   "cell_type": "code",
   "execution_count": 1,
   "metadata": {},
   "outputs": [],
   "source": [
    "import pandas as pd\n",
    "from sklearn import set_config\n",
    "from sklearn.pipeline import Pipeline, FeatureUnion, make_pipeline\n",
    "from sklearn.compose import ColumnTransformer\n",
    "from sklearn.preprocessing import StandardScaler, OneHotEncoder\n",
    "set_config(transform_output = \"pandas\")\n",
    "\n",
    "import tensorflow as tf"
   ]
  },
  {
   "cell_type": "code",
   "execution_count": 2,
   "metadata": {},
   "outputs": [],
   "source": [
    "# Load wildfire and non-wildfire datasets\n",
    "main_df = pd.read_csv(\"downsampled_df.csv\",index_col=0)\n",
    "\n",
    "# Remove the first unnamed column\n",
    "wf_df=main_df[main_df['fire']==1]\n",
    "nwf_df=main_df[main_df['fire']==0]\n",
    "\n",
    "# Define Split ratio, aka percentage of the combined data goes to training\n",
    "split=[0.6,0.2,0.2]\n",
    "wf_sort = wf_df.sort_values(by='date')\n",
    "nwf_sort = nwf_df.sort_values(by='date')\n",
    "\n",
    "\n",
    "for i in [0,1,2]:\n",
    "    wf_memory=0\n",
    "    nfw_memory=0\n",
    "    wf_selected=[]\n",
    "    nwf_selected=[]\n",
    "    wf_size = int(split[i] * len(wf_df))\n",
    "    nwf_size = int(split[i] * len(nwf_df))\n",
    "    if i==0:\n",
    "        wf_selected=wf_sort[:wf_size]\n",
    "        nwf_selected=nwf_sort[:nwf_size]\n",
    "        wf_memory=wf_size\n",
    "        nwf_memory=nwf_size\n",
    "        train_data = pd.concat([wf_selected, nwf_selected])\n",
    "    if i==1:\n",
    "        wf_selected=wf_sort[wf_memory:wf_memory+wf_size]\n",
    "        nwf_selected=nwf_sort[nwf_memory:nwf_memory+nwf_size]\n",
    "        wf_memory=wf_size\n",
    "        nwf_memory=nwf_size\n",
    "        test_data = pd.concat([wf_selected, nwf_selected])\n",
    "    if i==2:\n",
    "        wf_selected=wf_sort[wf_memory:]\n",
    "        nwf_selected=nwf_sort[nwf_memory:]\n",
    "        val_data = pd.concat([wf_selected, nwf_selected])                \n",
    "\n",
    "X_train = train_data.drop(columns={'fire','date'})\n",
    "X_test = test_data.drop(columns={'fire','date'})\n",
    "X_val = val_data.drop(columns={'fire','date'})\n",
    "y_train = train_data['fire']\n",
    "y_test = test_data['fire']\n",
    "y_val = val_data['fire']\n"
   ]
  },
  {
   "cell_type": "code",
   "execution_count": 3,
   "metadata": {},
   "outputs": [
    {
     "name": "stderr",
     "output_type": "stream",
     "text": [
      "WARNING:absl:Compiled the loaded model, but the compiled metrics have yet to be built. `model.compile_metrics` will be empty until you train or evaluate the model.\n"
     ]
    },
    {
     "data": {
      "text/html": [
       "<pre style=\"white-space:pre;overflow-x:auto;line-height:normal;font-family:Menlo,'DejaVu Sans Mono',consolas,'Courier New',monospace\"><span style=\"font-weight: bold\">Model: \"sequential\"</span>\n",
       "</pre>\n"
      ],
      "text/plain": [
       "\u001b[1mModel: \"sequential\"\u001b[0m\n"
      ]
     },
     "metadata": {},
     "output_type": "display_data"
    },
    {
     "data": {
      "text/html": [
       "<pre style=\"white-space:pre;overflow-x:auto;line-height:normal;font-family:Menlo,'DejaVu Sans Mono',consolas,'Courier New',monospace\">┏━━━━━━━━━━━━━━━━━━━━━━━━━━━━━━━━━┳━━━━━━━━━━━━━━━━━━━━━━━━┳━━━━━━━━━━━━━━━┓\n",
       "┃<span style=\"font-weight: bold\"> Layer (type)                    </span>┃<span style=\"font-weight: bold\"> Output Shape           </span>┃<span style=\"font-weight: bold\">       Param # </span>┃\n",
       "┡━━━━━━━━━━━━━━━━━━━━━━━━━━━━━━━━━╇━━━━━━━━━━━━━━━━━━━━━━━━╇━━━━━━━━━━━━━━━┩\n",
       "│ dense (<span style=\"color: #0087ff; text-decoration-color: #0087ff\">Dense</span>)                   │ (<span style=\"color: #00d7ff; text-decoration-color: #00d7ff\">None</span>, <span style=\"color: #00af00; text-decoration-color: #00af00\">204</span>)            │         <span style=\"color: #00af00; text-decoration-color: #00af00\">3,672</span> │\n",
       "├─────────────────────────────────┼────────────────────────┼───────────────┤\n",
       "│ dense_1 (<span style=\"color: #0087ff; text-decoration-color: #0087ff\">Dense</span>)                 │ (<span style=\"color: #00d7ff; text-decoration-color: #00d7ff\">None</span>, <span style=\"color: #00af00; text-decoration-color: #00af00\">1</span>)              │           <span style=\"color: #00af00; text-decoration-color: #00af00\">205</span> │\n",
       "└─────────────────────────────────┴────────────────────────┴───────────────┘\n",
       "</pre>\n"
      ],
      "text/plain": [
       "┏━━━━━━━━━━━━━━━━━━━━━━━━━━━━━━━━━┳━━━━━━━━━━━━━━━━━━━━━━━━┳━━━━━━━━━━━━━━━┓\n",
       "┃\u001b[1m \u001b[0m\u001b[1mLayer (type)                   \u001b[0m\u001b[1m \u001b[0m┃\u001b[1m \u001b[0m\u001b[1mOutput Shape          \u001b[0m\u001b[1m \u001b[0m┃\u001b[1m \u001b[0m\u001b[1m      Param #\u001b[0m\u001b[1m \u001b[0m┃\n",
       "┡━━━━━━━━━━━━━━━━━━━━━━━━━━━━━━━━━╇━━━━━━━━━━━━━━━━━━━━━━━━╇━━━━━━━━━━━━━━━┩\n",
       "│ dense (\u001b[38;5;33mDense\u001b[0m)                   │ (\u001b[38;5;45mNone\u001b[0m, \u001b[38;5;34m204\u001b[0m)            │         \u001b[38;5;34m3,672\u001b[0m │\n",
       "├─────────────────────────────────┼────────────────────────┼───────────────┤\n",
       "│ dense_1 (\u001b[38;5;33mDense\u001b[0m)                 │ (\u001b[38;5;45mNone\u001b[0m, \u001b[38;5;34m1\u001b[0m)              │           \u001b[38;5;34m205\u001b[0m │\n",
       "└─────────────────────────────────┴────────────────────────┴───────────────┘\n"
      ]
     },
     "metadata": {},
     "output_type": "display_data"
    },
    {
     "data": {
      "text/html": [
       "<pre style=\"white-space:pre;overflow-x:auto;line-height:normal;font-family:Menlo,'DejaVu Sans Mono',consolas,'Courier New',monospace\"><span style=\"font-weight: bold\"> Total params: </span><span style=\"color: #00af00; text-decoration-color: #00af00\">3,879</span> (15.16 KB)\n",
       "</pre>\n"
      ],
      "text/plain": [
       "\u001b[1m Total params: \u001b[0m\u001b[38;5;34m3,879\u001b[0m (15.16 KB)\n"
      ]
     },
     "metadata": {},
     "output_type": "display_data"
    },
    {
     "data": {
      "text/html": [
       "<pre style=\"white-space:pre;overflow-x:auto;line-height:normal;font-family:Menlo,'DejaVu Sans Mono',consolas,'Courier New',monospace\"><span style=\"font-weight: bold\"> Trainable params: </span><span style=\"color: #00af00; text-decoration-color: #00af00\">3,877</span> (15.14 KB)\n",
       "</pre>\n"
      ],
      "text/plain": [
       "\u001b[1m Trainable params: \u001b[0m\u001b[38;5;34m3,877\u001b[0m (15.14 KB)\n"
      ]
     },
     "metadata": {},
     "output_type": "display_data"
    },
    {
     "data": {
      "text/html": [
       "<pre style=\"white-space:pre;overflow-x:auto;line-height:normal;font-family:Menlo,'DejaVu Sans Mono',consolas,'Courier New',monospace\"><span style=\"font-weight: bold\"> Non-trainable params: </span><span style=\"color: #00af00; text-decoration-color: #00af00\">0</span> (0.00 B)\n",
       "</pre>\n"
      ],
      "text/plain": [
       "\u001b[1m Non-trainable params: \u001b[0m\u001b[38;5;34m0\u001b[0m (0.00 B)\n"
      ]
     },
     "metadata": {},
     "output_type": "display_data"
    },
    {
     "data": {
      "text/html": [
       "<pre style=\"white-space:pre;overflow-x:auto;line-height:normal;font-family:Menlo,'DejaVu Sans Mono',consolas,'Courier New',monospace\"><span style=\"font-weight: bold\"> Optimizer params: </span><span style=\"color: #00af00; text-decoration-color: #00af00\">2</span> (12.00 B)\n",
       "</pre>\n"
      ],
      "text/plain": [
       "\u001b[1m Optimizer params: \u001b[0m\u001b[38;5;34m2\u001b[0m (12.00 B)\n"
      ]
     },
     "metadata": {},
     "output_type": "display_data"
    }
   ],
   "source": [
    "# Load the model\n",
    "model = tf.keras.models.load_model('ANN_selected parameters_RX.h5')\n",
    "\n",
    "# Verify the model's architecture\n",
    "model.summary()"
   ]
  },
  {
   "cell_type": "code",
   "execution_count": 4,
   "metadata": {},
   "outputs": [],
   "source": [
    "# Manual separate numerical and categorical columns\n",
    "pass_features = [ 'leaf_area_index_high_vegetation', 'leaf_area_index_low_vegetation', 'slope_of_sub_gridscale_orography']\n",
    "categorical_features = ['type_of_high_vegetation', 'type_of_low_vegetation']\n",
    "numeric_features = train_data.drop(columns=pass_features).drop(columns=categorical_features).keys().drop(['fire','date'])\n",
    "#numeric_features = numeric_features.insert(-1,'distance_to_road') Resevered for future development\n",
    "feature_names =['numeric__fire_count_past_30Days','numeric__DMC','numeric__global_noon_LST_2m_temperature','numeric__BUI',\n",
    "                'numeric__FWI','numeric__latitude','numeric__FFMC','numeric__global_noon_LST_relative_humidity','numeric__24hr_max_temperature',\n",
    "                'numeric__global_noon_LST_2m_temperature_1dayLag','pass__leaf_area_index_high_vegetation','numeric__global_noon_LST_2m_temperature_2dayLag',\n",
    "                'numeric__high_vegetation_cover','numeric__24hr_max_temperature_1dayLag','numeric__low_vegetation_cover','pass__leaf_area_index_low_vegetation',\n",
    "                'numeric__24hr_accumulated_precipitation']\n",
    "\n",
    "# Define numeric and categorical transformer below\n",
    "scale=ColumnTransformer([('scale_transformer',StandardScaler(),numeric_features)],verbose_feature_names_out=False).set_output(transform='pandas')\n",
    "\n",
    "cate=ColumnTransformer([('categorical_transformer',OneHotEncoder(sparse_output=False),categorical_features)],verbose_feature_names_out=False).set_output(transform='pandas')\n",
    "\n",
    "pss=ColumnTransformer([('Pass_transformer','passthrough',pass_features)],verbose_feature_names_out=False).set_output(transform='pandas')\n",
    "Drop_transformer=ColumnTransformer([('Drop_transformer','passthrough',feature_names)],verbose_feature_names_out=False).set_output(transform='pandas')\n",
    "\n",
    "Data_pipeline = Pipeline(steps=[\n",
    "    ('Feature Union',FeatureUnion([('numeric', scale),('categorical',cate),('pass',pss)])),\n",
    "    ('Drop Columns',Drop_transformer)]\n",
    "    )"
   ]
  },
  {
   "cell_type": "markdown",
   "metadata": {},
   "source": [
    "Process Data and analyze"
   ]
  },
  {
   "cell_type": "code",
   "execution_count": 5,
   "metadata": {},
   "outputs": [
    {
     "name": "stdout",
     "output_type": "stream",
     "text": [
      "\u001b[1m662/662\u001b[0m \u001b[32m━━━━━━━━━━━━━━━━━━━━\u001b[0m\u001b[37m\u001b[0m \u001b[1m0s\u001b[0m 584us/step\n",
      "Threshold for fpr 0.4 = 0.23780012130737305\n"
     ]
    },
    {
     "data": {
      "image/png": "[encoded data removed]",
      "text/plain": [
       "<Figure size 640x480 with 1 Axes>"
      ]
     },
     "metadata": {},
     "output_type": "display_data"
    }
   ],
   "source": [
    "import matplotlib.pyplot as plt\n",
    "import numpy as np\n",
    "from sklearn.metrics import roc_curve, auc\n",
    "\n",
    "\n",
    "X_train_processed = Data_pipeline.fit_transform(X_train)\n",
    "X_test_processed = Data_pipeline.transform(X_test)\n",
    "X_val_processed = Data_pipeline.transform(X_val)\n",
    "\n",
    "\n",
    "# Predict probabilities for the positive class\n",
    "y_score = model.predict(X_test_processed)  # Modify if necessary to suit your model's output shape\n",
    "\n",
    "# Compute ROC curve and ROC area for each class\n",
    "fpr, tpr, thresholds = roc_curve(y_test, y_score)\n",
    "roc_auc = auc(fpr, tpr)\n",
    "\n",
    "# Find the threshold closest to an FPR of 0.4\n",
    "target_fpr = 0.4\n",
    "closest_index_fpr = np.argmin(np.abs(fpr - target_fpr))\n",
    "closest_fpr = fpr[closest_index_fpr]\n",
    "closest_tpr = tpr[closest_index_fpr]\n",
    "closest_threshold_fpr = thresholds[closest_index_fpr]\n",
    "print(f'Threshold for fpr 0.4 = {closest_threshold_fpr}')\n",
    "\n",
    "# Find the point where the threshold is closest to 0.5\n",
    "target_threshold = 0.5\n",
    "closest_index_threshold = np.argmin(np.abs(thresholds - target_threshold))\n",
    "threshold_fpr = fpr[closest_index_threshold]\n",
    "threshold_tpr = tpr[closest_index_threshold]\n",
    "closest_threshold = thresholds[closest_index_threshold]\n",
    "\n",
    "# Plotting the ROC curve\n",
    "plt.figure()\n",
    "lw = 2  # Line width\n",
    "plt.plot(fpr, tpr, color='darkorange', lw=lw, label=f'ROC curve (AUC = {roc_auc:.2f})')\n",
    "plt.plot([0, 1], [0, 1], color='navy', lw=lw, linestyle='--')\n",
    "\n",
    "# Plot point and line for FPR=0.4\n",
    "plt.plot(closest_fpr, closest_tpr, marker='o', color='red')\n",
    "plt.plot([closest_fpr, closest_fpr], [0, closest_tpr], color='red', linestyle='--')\n",
    "plt.plot([0, closest_fpr], [closest_tpr, closest_tpr], color='red', linestyle='--')\n",
    "# Plot point and line for threshold=0.5\n",
    "plt.plot(threshold_fpr, threshold_tpr, marker='^', color='blue')\n",
    "plt.plot([threshold_fpr, threshold_fpr], [0, threshold_tpr], color='blue', linestyle='--')\n",
    "plt.plot([0, threshold_fpr], [threshold_tpr, threshold_tpr], color='blue', linestyle='--')\n",
    "\n",
    "plt.xlim([0.0, 1.0])\n",
    "plt.ylim([0.0, 1.0])\n",
    "plt.xlabel('False Positive Rate')\n",
    "plt.ylabel('True Positive Rate')\n",
    "plt.title('Receiver Operating Characteristic example')\n",
    "plt.legend([\n",
    "    'ROC curve (AUC = {:.2f})'.format(roc_auc),\n",
    "    'Baseline (Chance)',\n",
    "    'Threshold = {:.2f}'.format(closest_threshold_fpr),\n",
    "    'Threshold=0.5'\n",
    "], loc=\"lower right\")\n",
    "plt.show()"
   ]
  },
  {
   "cell_type": "code",
   "execution_count": 6,
   "metadata": {},
   "outputs": [],
   "source": [
    "def threshold_predict(model,X,threshold):\n",
    "    return (model.predict(X) > threshold).astype(int)\n",
    "\n",
    "def add_back_original_features(X_processed,df_original):\n",
    "    return pd.merge(X_processed, df_original, left_index=True, right_index=True, how='left')"
   ]
  },
  {
   "cell_type": "code",
   "execution_count": 13,
   "metadata": {},
   "outputs": [
    {
     "name": "stdout",
     "output_type": "stream",
     "text": [
      "\u001b[1m2840/2840\u001b[0m \u001b[32m━━━━━━━━━━━━━━━━━━━━\u001b[0m\u001b[37m\u001b[0m \u001b[1m2s\u001b[0m 538us/step\n",
      "Validation set accuracy: 0.6956435599973584\n",
      "f1 score:  0.6530315197751455\n"
     ]
    }
   ],
   "source": [
    "# Visualize predictions on validation set\n",
    "from sklearn.metrics import accuracy_score, f1_score\n",
    "\n",
    "\n",
    "threshold = 0.5 # 0.23780012130737305\n",
    "y_predict = threshold_predict(model,X_val_processed,threshold)\n",
    "y_true = y_val\n",
    "\n",
    "# Evaluate the accuracy of the model on the validation set\n",
    "accuracy = accuracy_score(y_true, y_predict)\n",
    "print(\"Validation set accuracy:\", accuracy)\n",
    "print('f1 score: ',f1_score(y_true, y_predict))"
   ]
  },
  {
   "cell_type": "markdown",
   "metadata": {},
   "source": [
    "Plot the predictions over time"
   ]
  },
  {
   "cell_type": "code",
   "execution_count": 9,
   "metadata": {},
   "outputs": [],
   "source": [
    "import os\n",
    "\n",
    "from sklearn.metrics import confusion_matrix\n",
    "import seaborn as sns\n",
    "\n",
    "import cartopy.crs as ccrs\n",
    "import cartopy.feature as cfeature\n",
    "from cartopy.io.shapereader import Reader\n",
    "\n",
    "\n",
    "def prepare_df_for_plotting(X,y_pred,df):\n",
    "    \"\"\"\n",
    "    X is the test inputs, y_pred is the resulting model predictions\n",
    "    df is the original dataframe to add back date, latitude, and longitude columns\n",
    "    \"\"\"\n",
    "    df = add_back_original_features(X,df)\n",
    "    df['prediction'] = y_pred\n",
    "    # Classify each prediction\n",
    "    df['result'] = 'TN'\n",
    "    df.loc[(df['fire'] == 1) & (df['prediction'] == 1), 'result'] = 'TP'\n",
    "    df.loc[(df['fire'] == 0) & (df['prediction'] == 1), 'result'] = 'FP'\n",
    "    df.loc[(df['fire'] == 1) & (df['prediction'] == 0), 'result'] = 'FN'\n",
    "\n",
    "    return df\n",
    "\n",
    "def plot_daily_predictions(df,save_dir):\n",
    "    # Define the geographic bounds of Alberta\n",
    "    extent = [-120, -110, 49, 60]  # [west, east, south, north]\n",
    "    provinces = cfeature.NaturalEarthFeature(\n",
    "            category='cultural',\n",
    "            name='admin_1_states_provinces_lines',\n",
    "            scale='50m',\n",
    "            facecolor='none',\n",
    "            edgecolor='black'\n",
    "        )\n",
    "\n",
    "    for date in df['date'].unique():\n",
    "        df_date = df[df['date'] == date]\n",
    "\n",
    "        fig = plt.figure(figsize=(10, 10))\n",
    "        # Define the projection and extent\n",
    "        ax = plt.axes(projection=ccrs.LambertConformal(central_longitude=-115, central_latitude=55))\n",
    "        ax.set_extent(extent)\n",
    "        \n",
    "        # Add geographic features\n",
    "        ax.add_feature(cfeature.BORDERS, linestyle=':')\n",
    "        ax.add_feature(cfeature.LAND)\n",
    "        ax.add_feature(cfeature.COASTLINE)\n",
    "        ax.add_feature(cfeature.LAKES, alpha=0.5)\n",
    "        ax.add_feature(provinces, linestyle='-', edgecolor='black')\n",
    "\n",
    "        # Plot points for the given date\n",
    "        categories = ['TP', 'TN', 'FP', 'FN']\n",
    "        colors = ['green', 'blue', 'red', 'yellow']\n",
    "        for category, color in zip(categories, colors):\n",
    "            df_cat = df_date[df_date['result'] == category]\n",
    "            plt.scatter(df_cat['longitude'], df_cat['latitude'], c=color, label=category, alpha=0.6, transform=ccrs.PlateCarree())\n",
    "        \n",
    "        plt.title(f'Fire Prediction Results for {date}')\n",
    "        plt.legend(loc='lower left')\n",
    "        \n",
    "        # Save the plot\n",
    "        plt.savefig(os.path.join(save_dir, f'{date}_predictions.png'))\n",
    "        plt.close(fig)\n",
    "\n",
    "def plot_incorrect_predictions(df, save_path):\n",
    "    # Filter to include only incorrect predictions\n",
    "    incorrect_df = df[(df['result'] == 'FP') | (df['result'] == 'FN')]\n",
    "\n",
    "    # Group by latitude and longitude, count occurrences\n",
    "    agg_df = incorrect_df.groupby(['latitude', 'longitude']).size().reset_index(name='counts')\n",
    "\n",
    "    fig = plt.figure(figsize=(40, 40))\n",
    "    ax = plt.axes(projection=ccrs.LambertConformal(central_longitude=-115, central_latitude=55))\n",
    "\n",
    "    # Set the geographic bounds to focus on Alberta\n",
    "    extent = [-120, -110, 49, 60]  # Adjust as necessary\n",
    "    ax.set_extent(extent)\n",
    "    \n",
    "    # Add provincial borders and other geographic features\n",
    "    provinces = cfeature.NaturalEarthFeature(\n",
    "            category='cultural',\n",
    "            name='admin_1_states_provinces_lines',\n",
    "            scale='50m',\n",
    "            facecolor='none',\n",
    "            edgecolor='black'\n",
    "        )\n",
    "    ax.add_feature(cfeature.BORDERS, linestyle=':')\n",
    "    ax.add_feature(cfeature.LAND)\n",
    "    ax.add_feature(cfeature.COASTLINE)\n",
    "    ax.add_feature(cfeature.LAKES, alpha=0.5)\n",
    "    ax.add_feature(provinces, linestyle='-', edgecolor='black')\n",
    "\n",
    "    # Normalize the counts to map colors\n",
    "    norm = plt.Normalize(vmin=agg_df['counts'].min(), vmax=agg_df['counts'].max())\n",
    "\n",
    "    # Plot each point, coloring based on the number of incorrect predictions\n",
    "    scatter = ax.scatter(agg_df['longitude'], agg_df['latitude'], \n",
    "                        c=agg_df['counts'], cmap='Reds', norm=norm, \n",
    "                        edgecolor='k', linewidth=0.5, alpha=0.7, s=600, # Adjust size with `s`\n",
    "                        transform=ccrs.PlateCarree())\n",
    "\n",
    "    # Add text for the number of incorrect predictions at each point\n",
    "    for _, row in agg_df.iterrows():\n",
    "        ax.text(row['longitude'], row['latitude'], str(int(row['counts'])), \n",
    "                transform=ccrs.PlateCarree(),\n",
    "                ha='center', va='center', fontsize=12, color='black')  # Adjusted alignment and color\n",
    "\n",
    "    # Add a colorbar\n",
    "    cbar = plt.colorbar(scatter, shrink=0.5, aspect=5)\n",
    "    cbar.set_label('Number of Incorrect Predictions',fontsize=40)\n",
    "    cbar.ax.tick_params(labelsize=30)\n",
    "\n",
    "    plt.title('Incorrect Predictions Across Alberta',fontsize=40)\n",
    "    plt.savefig(save_path)\n",
    "    plt.close(fig)"
   ]
  },
  {
   "cell_type": "code",
   "execution_count": 14,
   "metadata": {},
   "outputs": [
    {
     "data": {
      "text/plain": [
       "Text(0.5, 23.52222222222222, 'Predicted Label')"
      ]
     },
     "execution_count": 14,
     "metadata": {},
     "output_type": "execute_result"
    },
    {
     "data": {
      "image/png": "[encoded data removed]",
      "text/plain": [
       "<Figure size 640x480 with 2 Axes>"
      ]
     },
     "metadata": {},
     "output_type": "display_data"
    }
   ],
   "source": [
    "cm = confusion_matrix(y_true,y_predict)\n",
    "sns.heatmap(cm,annot=True,fmt='.6g')\n",
    "plt.title(\"Confusion Matrix\")\n",
    "plt.ylabel(\"True Label\")\n",
    "plt.xlabel(\"Predicted Label\")"
   ]
  },
  {
   "cell_type": "code",
   "execution_count": 17,
   "metadata": {},
   "outputs": [],
   "source": [
    "df = prepare_df_for_plotting(X_val_processed,y_predict,main_df)"
   ]
  },
  {
   "cell_type": "code",
   "execution_count": 18,
   "metadata": {},
   "outputs": [],
   "source": [
    "plot_incorrect_predictions(df,'all_incorrect_predictions.png')"
   ]
  },
  {
   "cell_type": "code",
   "execution_count": null,
   "metadata": {},
   "outputs": [],
   "source": [
    "plot_daily_predictions(df,'model_predictions/')"
   ]
  }
 ],
 "metadata": {
  "kernelspec": {
   "display_name": "MLvenv",
   "language": "python",
   "name": "python3"
  },
  "language_info": {
   "codemirror_mode": {
    "name": "ipython",
    "version": 3
   },
   "file_extension": ".py",
   "mimetype": "text/x-python",
   "name": "python",
   "nbconvert_exporter": "python",
   "pygments_lexer": "ipython3",
   "version": "3.10.13"
  }
 },
 "nbformat": 4,
 "nbformat_minor": 2
}
