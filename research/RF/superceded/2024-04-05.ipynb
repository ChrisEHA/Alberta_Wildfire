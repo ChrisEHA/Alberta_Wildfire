{
 "cells": [
  {
   "cell_type": "markdown",
   "metadata": {},
   "source": [
    "This is the code for random forest training by Raymond Xu.\n",
    "\n",
    " In this edition, the longitude and latitude of the original wildfire dataset is used as inputs.\n",
    "\n",
    " Here the temporal sequence is not considered in the data splitting.\n",
    " "
   ]
  },
  {
   "cell_type": "code",
   "execution_count": 12,
   "metadata": {},
   "outputs": [
    {
     "name": "stdout",
     "output_type": "stream",
     "text": [
      "Training fire set size: 13965\n",
      "Training non-fire set size: 39369\n",
      "Training fire set size: 4013\n",
      "Training non-fire set size: 11225\n",
      "-------------------------------------\n",
      "Training set size: 53334\n",
      "Testing set size: 15238\n",
      "Validation set size: 7620\n"
     ]
    }
   ],
   "source": [
    "import pandas as pd\n",
    "from sklearn.model_selection import train_test_split\n",
    "import os\n",
    "\n",
    "# Load wildfire and non-wildfire datasets\n",
    "wf_df = pd.read_csv(\"G:/Shared drives/MECE 788 - Forest Fire Prediction/04_Preprocessing/Cleanup_and_point_selection/wf_original lon and lat.csv\",index_col=0)\n",
    "nwf_df = pd.read_csv(\"G:/Shared drives/MECE 788 - Forest Fire Prediction/04_Preprocessing/Cleanup_and_point_selection/downsampled_df.csv\",index_col=0)\n",
    "\n",
    "# Add a column to indicate whether the data point represents wildfire or not\n",
    "wf_df['label'] = 1\n",
    "nwf_df['label'] = 0\n",
    "\n",
    "wf_df=wf_df.drop(columns={'latitude_ERA5','longitude_ERA5'})\n",
    "\n",
    "nwf_df=nwf_df.rename({\n",
    "    'latitude_ERA5':'latitude',\n",
    "    'longitude_ERA5':'longitude'\n",
    "})\n",
    "\n",
    "# Combine the datasets\n",
    "combined_data = pd.concat([wf_df, nwf_df], ignore_index=True)\n",
    "combined_data = combined_data.drop(columns={'date'})\n",
    "\n",
    "# Shuffle the combined dataset\n",
    "combined_data = combined_data.sample(frac=1, random_state=42).reset_index()\n",
    "combined_data = combined_data.iloc[: , 2:]\n",
    "\n",
    "# Divide the dataset into training, testing, and validation sets\n",
    "train_ratio = 0.7\n",
    "test_ratio = 0.20\n",
    "val_ratio = 0.10\n",
    "\n",
    "train_size = int(train_ratio * len(combined_data))\n",
    "test_size = int(test_ratio * len(combined_data))\n",
    "\n",
    "train_data = combined_data[:train_size]\n",
    "test_data = combined_data[train_size:train_size+test_size]\n",
    "val_data = combined_data[train_size+test_size:]\n",
    "\n",
    "# Select equal numbers of wildfire and non-wildfire data points for the training set\n",
    "num_wildfires = train_data['label'].sum()\n",
    "num_non_wildfires = train_size - num_wildfires\n",
    "\n",
    "wildfire_train = train_data[train_data['label'] == 1].sample(n=num_wildfires, replace=False)\n",
    "non_wildfire_train = train_data[train_data['label'] == 0].sample(n=num_non_wildfires, replace=False)\n",
    "wildfire_test = test_data[test_data['label'] == 1]\n",
    "non_wildfire_test = test_data[test_data['label'] == 0]\n",
    "print(\"Training fire set size:\", len(wildfire_train))\n",
    "print(\"Training non-fire set size:\", len(non_wildfire_train))\n",
    "print(\"Training fire set size:\", len(wildfire_test))\n",
    "print(\"Training non-fire set size:\", len(non_wildfire_test))\n",
    "\n",
    "train_set = pd.concat([wildfire_train, non_wildfire_train])\n",
    "\n",
    "# Remove selected data points from the training set\n",
    "train_data = train_data.drop(train_set.index)\n",
    "\n",
    "# Output sizes of training, testing, and validation sets\n",
    "print('-------------------------------------')\n",
    "print(\"Training set size:\", len(train_set))\n",
    "print(\"Testing set size:\", len(test_data))\n",
    "print(\"Validation set size:\", len(val_data))\n"
   ]
  },
  {
   "cell_type": "code",
   "execution_count": 16,
   "metadata": {},
   "outputs": [
    {
     "name": "stdout",
     "output_type": "stream",
     "text": [
      "<class 'pandas.core.frame.DataFrame'>\n",
      "Index: 53334 entries, 24639 to 29848\n",
      "Data columns (total 28 columns):\n",
      " #   Column                                  Non-Null Count  Dtype  \n",
      "---  ------                                  --------------  -----  \n",
      " 0   latitude                                53334 non-null  float64\n",
      " 1   longitude                               53334 non-null  float64\n",
      " 2   high_vegetation_cover                   53334 non-null  float64\n",
      " 3   leaf_area_index_high_vegetation         53334 non-null  float64\n",
      " 4   leaf_area_index_low_vegetation          53334 non-null  float64\n",
      " 5   low_vegetation_cover                    53334 non-null  float64\n",
      " 6   slope_of_sub_gridscale_orography        53334 non-null  float64\n",
      " 7   type_of_high_vegetation                 53334 non-null  float64\n",
      " 8   type_of_low_vegetation                  53334 non-null  float64\n",
      " 9   24hr_accumulated_precipitation          53334 non-null  float64\n",
      " 10  24hr_max_temperature                    53334 non-null  float64\n",
      " 11  global_noon_LST_2m_temperature          53334 non-null  float64\n",
      " 12  global_noon_LST_relative_humidity       53334 non-null  float64\n",
      " 13  global_noon_LST_wind_speed              53334 non-null  float64\n",
      " 14  BUI                                     53334 non-null  float64\n",
      " 15  DC                                      53334 non-null  float64\n",
      " 16  DMC                                     53334 non-null  float64\n",
      " 17  FFMC                                    53334 non-null  float64\n",
      " 18  FWI                                     53334 non-null  float64\n",
      " 19  fire                                    53334 non-null  int64  \n",
      " 20  24hr_max_temperature_1dayLag            53334 non-null  float64\n",
      " 21  24hr_max_temperature_2dayLag            53334 non-null  float64\n",
      " 22  global_noon_LST_2m_temperature_1dayLag  53334 non-null  float64\n",
      " 23  global_noon_LST_2m_temperature_2dayLag  53334 non-null  float64\n",
      " 24  fire_1dayShift                          53334 non-null  float64\n",
      " 25  fire_2dayShift                          53334 non-null  float64\n",
      " 26  fire_3dayShift                          53334 non-null  float64\n",
      " 27  label                                   53334 non-null  int64  \n",
      "dtypes: float64(26), int64(2)\n",
      "memory usage: 11.8 MB\n"
     ]
    }
   ],
   "source": [
    "train_set.info()"
   ]
  },
  {
   "cell_type": "code",
   "execution_count": 4,
   "metadata": {},
   "outputs": [],
   "source": [
    "# Divide the dataset into training, testing, and validation sets\n",
    "# train_ratio = 0.7\n",
    "# test_ratio = 0.20\n",
    "# val_ratio = 0.10\n",
    "\n",
    "#train_size = int(train_ratio * len(wf_df))\n",
    "#test_size = int(test_ratio * len(wf_df))\n",
    "\n",
    "#train_wf = wf_df[:train_size]\n",
    "#test_wf = wf_df[train_size:train_size+test_size]\n",
    "#val_wf = wf_df[train_size+test_size:]\n",
    "#train_nwf = nwf_df[:train_size]\n",
    "#test_nwf = nwf_df[train_size:train_size+test_size]\n",
    "#val_nwf = nwf_df[train_size+test_size:]\n",
    "\n",
    "# Select equal numbers of wildfire and non-wildfire data points for the training set\n",
    "#print(\"Training set wildfire size:\", len(train_wf))\n",
    "#print(\"Training set non-wildfire size:\", len(train_nwf))\n",
    "\n",
    "#train_set = pd.concat([train_wf, train_nwf])\n",
    "\n",
    "# Remove selected data points from the training set\n",
    "#train_data = train_data.drop(train_set.index)\n",
    "\n",
    "# Output sizes of training, testing, and validation sets\n",
    "#print(\"Training set size:\", len(train_set))\n",
    "#print(\"Testing set size:\", len(test_data))\n",
    "#print(\"Validation set size:\", len(val_data))"
   ]
  },
  {
   "cell_type": "code",
   "execution_count": 20,
   "metadata": {},
   "outputs": [
    {
     "name": "stdout",
     "output_type": "stream",
     "text": [
      "['leaf_area_index_high_vegetation' '24hr_max_temperature'\n",
      " 'global_noon_LST_2m_temperature' 'BUI' 'FFMC' 'fire'\n",
      " '24hr_max_temperature_1dayLag' '24hr_max_temperature_2dayLag'\n",
      " 'global_noon_LST_2m_temperature_1dayLag'\n",
      " 'global_noon_LST_2m_temperature_2dayLag']\n",
      "Number of features in the original dataset: 27\n",
      "Number of features: 14\tTotal Variance Explained: 0.9065804145280709\n"
     ]
    }
   ],
   "source": [
    "# Separate features and labels\n",
    "X_train = train_set.drop(columns=['label'])\n",
    "y_train = train_set['label']\n",
    "X_test = test_data.drop(columns=['label'])\n",
    "y_test = test_data['label']\n",
    "X_val = val_data.drop(columns=['label'])\n",
    "y_val = val_data['label']\n",
    "# Scale the features using means\n",
    "scaler = StandardScaler()\n",
    "scaler.fit(X_train)\n",
    "X_train_scaled = scaler.transform(X_train)\n",
    "X_test_scaled = scaler.transform(X_test)\n",
    "X_val_scaled = scaler.transform(X_val)\n",
    "\n",
    "# SelectKB\n",
    "from sklearn.feature_selection import SelectKBest, f_classif,chi2\n",
    "SelectKB_train = SelectKBest(f_classif,k=10)\n",
    "SelectKB_train.fit(pd.DataFrame(X_train_scaled,columns=X_train.columns),y_train)\n",
    "feature_names=SelectKB_train.get_feature_names_out()\n",
    "print(feature_names)\n",
    "\n",
    "# PCA Analysis\n",
    "from sklearn.decomposition import PCA\n",
    "pca = PCA()\n",
    "X_pca = pca.fit_transform(X_train_scaled)\n",
    "total_explained_variance = pca.explained_variance_ratio_.cumsum()\n",
    "n_over_90 = len(total_explained_variance[total_explained_variance >= .90])\n",
    "n_to_reach_90 = X_train_scaled.shape[1] - n_over_90 + 1\n",
    "print(\"Number of features in the original dataset: {}\".format(X_train_scaled.shape[1]))\n",
    "print(\"Number of features: {}\\tTotal Variance Explained: {}\".format(n_to_reach_90, total_explained_variance[n_to_reach_90-1]))\n"
   ]
  },
  {
   "cell_type": "code",
   "execution_count": 6,
   "metadata": {},
   "outputs": [
    {
     "data": {
      "text/plain": [
       "array(['x3', 'x10', 'x11', 'x14', 'x17', 'x19', 'x20', 'x21', 'x22',\n",
       "       'x23'], dtype=object)"
      ]
     },
     "execution_count": 6,
     "metadata": {},
     "output_type": "execute_result"
    }
   ],
   "source": [
    "from sklearn.model_selection import train_test_split\n",
    "from sklearn.preprocessing import StandardScaler\n",
    "from sklearn.ensemble import RandomForestClassifier\n",
    "from sklearn.metrics import accuracy_score\n",
    "from sklearn.model_selection import GridSearchCV\n",
    "\n",
    "# Initialize and train the random forest classifier\n",
    "rf_classifier = RandomForestClassifier(n_estimators=100, random_state=42)"
   ]
  },
  {
   "cell_type": "code",
   "execution_count": 7,
   "metadata": {},
   "outputs": [
    {
     "ename": "NameError",
     "evalue": "name 'grid_search' is not defined",
     "output_type": "error",
     "traceback": [
      "\u001b[1;31m---------------------------------------------------------------------------\u001b[0m",
      "\u001b[1;31mNameError\u001b[0m                                 Traceback (most recent call last)",
      "Cell \u001b[1;32mIn[7], line 2\u001b[0m\n\u001b[0;32m      1\u001b[0m \u001b[38;5;66;03m# Best parameters and best score\u001b[39;00m\n\u001b[1;32m----> 2\u001b[0m \u001b[38;5;28mprint\u001b[39m(\u001b[38;5;124m\"\u001b[39m\u001b[38;5;124mBest parameters:\u001b[39m\u001b[38;5;124m\"\u001b[39m, \u001b[43mgrid_search\u001b[49m\u001b[38;5;241m.\u001b[39mbest_params_)\n\u001b[0;32m      3\u001b[0m \u001b[38;5;28mprint\u001b[39m(\u001b[38;5;124mf\u001b[39m\u001b[38;5;124m\"\u001b[39m\u001b[38;5;124mMAPE: \u001b[39m\u001b[38;5;132;01m{\u001b[39;00m\u001b[38;5;241m100\u001b[39m\u001b[38;5;241m*\u001b[39mgrid_search\u001b[38;5;241m.\u001b[39mbest_score_\u001b[38;5;132;01m:\u001b[39;00m\u001b[38;5;124m.2f\u001b[39m\u001b[38;5;132;01m}\u001b[39;00m\u001b[38;5;124m%\u001b[39m\u001b[38;5;124m\"\u001b[39m)\n",
      "\u001b[1;31mNameError\u001b[0m: name 'grid_search' is not defined"
     ]
    }
   ],
   "source": [
    "# Best parameters and best score\n",
    "print(\"Best parameters:\", grid_search.best_params_)\n",
    "print(f\"MAPE: {100*grid_search.best_score_:.2f}%\")"
   ]
  },
  {
   "cell_type": "code",
   "execution_count": null,
   "metadata": {},
   "outputs": [],
   "source": [
    "\n",
    "# Predict on the validation set\n",
    "y_val_pred = rf_classifier.predict(X_val_scaled)\n",
    "\n",
    "# Evaluate the accuracy of the model on the validation set\n",
    "accuracy = accuracy_score(y_val, y_val_pred)\n",
    "print(\"Validation set accuracy:\", accuracy)"
   ]
  }
 ],
 "metadata": {
  "kernelspec": {
   "display_name": "Python 3",
   "language": "python",
   "name": "python3"
  },
  "language_info": {
   "codemirror_mode": {
    "name": "ipython",
    "version": 3
   },
   "file_extension": ".py",
   "mimetype": "text/x-python",
   "name": "python",
   "nbconvert_exporter": "python",
   "pygments_lexer": "ipython3",
   "version": "3.9.13"
  }
 },
 "nbformat": 4,
 "nbformat_minor": 2
}
